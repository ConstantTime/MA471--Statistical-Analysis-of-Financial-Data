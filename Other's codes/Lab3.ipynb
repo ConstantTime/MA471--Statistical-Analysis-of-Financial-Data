{
 "cells": [
  {
   "cell_type": "code",
   "execution_count": 1,
   "metadata": {},
   "outputs": [],
   "source": [
    "import numpy as np\n",
    "import pandas as pd\n",
    "import matplotlib.pyplot as plt\n",
    "import scipy.stats as stats\n",
    "import statsmodels.api as sm\n",
    "import math"
   ]
  },
  {
   "cell_type": "code",
   "execution_count": 2,
   "metadata": {},
   "outputs": [],
   "source": [
    "unif = np.random.uniform(0,1,200)"
   ]
  },
  {
   "cell_type": "code",
   "execution_count": 3,
   "metadata": {},
   "outputs": [],
   "source": [
    "## Question a"
   ]
  },
  {
   "cell_type": "code",
   "execution_count": 4,
   "metadata": {},
   "outputs": [],
   "source": [
    "dist = [];\n",
    "for i in range(0,200):\n",
    "    if(unif[i] <= 0.4):\n",
    "        dist.append(np.random.normal(0, 1))\n",
    "    else:\n",
    "        dist.append(np.random.normal(0, 5))\n",
    "        \n",
    "dist = np.asarray(dist)"
   ]
  },
  {
   "cell_type": "code",
   "execution_count": 5,
   "metadata": {},
   "outputs": [],
   "source": [
    "##Question b"
   ]
  },
  {
   "cell_type": "code",
   "execution_count": 6,
   "metadata": {},
   "outputs": [],
   "source": [
    "\n",
    "lambda1 = 0.4\n",
    "lambda2 = 0.6\n",
    "mu1 = 5\n",
    "mu2 = -3\n",
    "var1 = 8\n",
    "var2 = 10"
   ]
  },
  {
   "cell_type": "code",
   "execution_count": 7,
   "metadata": {},
   "outputs": [],
   "source": [
    "\n",
    "for j in range(0,1000):\n",
    "    ExpZ1 = [];\n",
    "    ExpZ2 = [];\n",
    "    for i in range(0,200):\n",
    "        y1 = stats.norm.pdf(dist[i],mu1,np.sqrt(var1));\n",
    "        y2 = stats.norm.pdf(dist[i],mu2,np.sqrt(var2));\n",
    "        m1i = lambda1*(y1)/(lambda1*y1 + (1-lambda1)*y2)\n",
    "        m2i = 1-m1i\n",
    "        ExpZ1.append(m1i)\n",
    "        ExpZ2.append(m2i)\n",
    "        \n",
    "    lambda1 = 0;\n",
    "    for i in range(0,200):\n",
    "        lambda1 += ExpZ1[i] \n",
    "    lambda1 /= 200\n",
    "\n",
    "    mu1 = 0;\n",
    "    sum1 =0;\n",
    "    for i in range(0,200):\n",
    "        mu1 += (ExpZ1[i]*dist[i])\n",
    "        sum1 += ExpZ1[i]\n",
    "    mu1 = mu1/sum1;\n",
    "    \n",
    "    mu2 = 0;\n",
    "    sum2=0;\n",
    "    for i in range(0,200):\n",
    "        mu2 += (ExpZ2[i]*dist[i])\n",
    "        sum2 += ExpZ2[i]\n",
    "    mu2 = mu2/sum2;\n",
    "\n",
    "    var1 = 0;\n",
    "    sum1 =0;\n",
    "    for i in range(0,200):\n",
    "        var1 += (ExpZ1[i]*(pow(dist[i]-mu1,2)))\n",
    "        sum1 += ExpZ1[i]\n",
    "    var1 = var1/sum1;\n",
    "\n",
    "    var2 = 0;\n",
    "    sum2 =0;\n",
    "    for i in range(0,200):\n",
    "        var2 += (ExpZ2[i]*(pow(dist[i]-mu2,2)))\n",
    "        sum2 += ExpZ2[i]\n",
    "    var2 = var2/sum2;"
   ]
  },
  {
   "cell_type": "code",
   "execution_count": 8,
   "metadata": {
    "scrolled": true
   },
   "outputs": [
    {
     "data": {
      "image/png": "[encoded data removed]",
      "text/plain": [
       "<Figure size 432x288 with 1 Axes>"
      ]
     },
     "metadata": {},
     "output_type": "display_data"
    }
   ],
   "source": [
    "x = np.arange(dist.min(),dist.max(),0.001)\n",
    "num_bins = 50\n",
    "fig,ax = plt.subplots()\n",
    "n, bins, patches = ax.hist(dist, num_bins, facecolor='blue',alpha = 0.7,range=(dist.min(),dist.max()),density=1)\n",
    "\n",
    "y1 = stats.norm.pdf(x,mu1,np.sqrt(var1))\n",
    "y2 = stats.norm.pdf(x,mu2,np.sqrt(var2))\n",
    "ax.plot(x, y1*lambda1+y2*(1-lambda1), '--')\n",
    "\n",
    "ax.set_xlabel('C return')\n",
    "ax.set_ylabel('Probability density')\n",
    "plt.show()"
   ]
  },
  {
   "cell_type": "code",
   "execution_count": 9,
   "metadata": {},
   "outputs": [],
   "source": [
    "##Estimate from inbuilt function"
   ]
  },
  {
   "cell_type": "code",
   "execution_count": 10,
   "metadata": {},
   "outputs": [],
   "source": [
    "from sklearn.mixture import GaussianMixture\n",
    "gmm = GaussianMixture(n_components=2, tol=0.00001)\n",
    "dist = dist.reshape(200,1)\n",
    "gmm.fit(dist);"
   ]
  },
  {
   "cell_type": "code",
   "execution_count": 11,
   "metadata": {},
   "outputs": [
    {
     "data": {
      "text/plain": [
       "array([[-0.2438876],\n",
       "       [ 0.5193847]])"
      ]
     },
     "execution_count": 11,
     "metadata": {},
     "output_type": "execute_result"
    }
   ],
   "source": [
    "gmm.means_"
   ]
  },
  {
   "cell_type": "code",
   "execution_count": 12,
   "metadata": {},
   "outputs": [
    {
     "data": {
      "text/plain": [
       "array([[[ 0.6338276 ]],\n",
       "\n",
       "       [[27.19413108]]])"
      ]
     },
     "execution_count": 12,
     "metadata": {},
     "output_type": "execute_result"
    }
   ],
   "source": [
    "gmm.covariances_"
   ]
  },
  {
   "cell_type": "code",
   "execution_count": 13,
   "metadata": {},
   "outputs": [],
   "source": [
    "\n",
    "####Question Checking on previous data"
   ]
  },
  {
   "cell_type": "code",
   "execution_count": 14,
   "metadata": {},
   "outputs": [],
   "source": [
    "\n",
    "data = pd.read_csv('/home/markov/Desktop/sem7/Safd Lab/Lab3/data.txt', sep=\"\\s+\")\n",
    "dist = data[\"C\"]\n",
    "\n",
    "##random guess\n",
    "lambda1 = 0.4\n",
    "lambda2 = 0.6\n",
    "mu1 = 5\n",
    "mu2 = -3\n",
    "var1 = 8\n",
    "var2 = 10\n",
    "\n",
    "##training EM on stock data\n",
    "for j in range(0,1000):\n",
    "    ExpZ1 = [];\n",
    "    ExpZ2 = [];\n",
    "    for i in range(0,200):\n",
    "        y1 = stats.norm.pdf(dist[i],mu1,np.sqrt(var1));\n",
    "        y2 = stats.norm.pdf(dist[i],mu2,np.sqrt(var2));\n",
    "        m1i = lambda1*(y1)/(lambda1*y1 + (1-lambda1)*y2)\n",
    "        m2i = 1-m1i\n",
    "        ExpZ1.append(m1i)\n",
    "        ExpZ2.append(m2i)\n",
    "        \n",
    "    lambda1 = 0;\n",
    "    for i in range(0,200):\n",
    "        lambda1 += ExpZ1[i] \n",
    "    lambda1 /= 200\n",
    "\n",
    "    mu1 = 0;\n",
    "    sum1 =0;\n",
    "    for i in range(0,200):\n",
    "        mu1 += (ExpZ1[i]*dist[i])\n",
    "        sum1 += ExpZ1[i]\n",
    "    mu1 = mu1/sum1;\n",
    "    \n",
    "    mu2 = 0;\n",
    "    sum2=0;\n",
    "    for i in range(0,200):\n",
    "        mu2 += (ExpZ2[i]*dist[i])\n",
    "        sum2 += ExpZ2[i]\n",
    "    mu2 = mu2/sum2;\n",
    "\n",
    "    var1 = 0;\n",
    "    sum1 =0;\n",
    "    for i in range(0,200):\n",
    "        var1 += (ExpZ1[i]*(pow(dist[i]-mu1,2)))\n",
    "        sum1 += ExpZ1[i]\n",
    "    var1 = var1/sum1;\n",
    "\n",
    "    var2 = 0;\n",
    "    sum2 =0;\n",
    "    for i in range(0,200):\n",
    "        var2 += (ExpZ2[i]*(pow(dist[i]-mu2,2)))\n",
    "        sum2 += ExpZ2[i]\n",
    "    var2 = var2/sum2;\n",
    "    \n"
   ]
  },
  {
   "cell_type": "code",
   "execution_count": 15,
   "metadata": {
    "collapsed": true
   },
   "outputs": [
    {
     "data": {
      "image/png": "[encoded data removed]",
      "text/plain": [
       "<Figure size 432x288 with 1 Axes>"
      ]
     },
     "metadata": {},
     "output_type": "display_data"
    }
   ],
   "source": [
    "x = np.arange(dist.min(),dist.max(),0.001)\n",
    "num_bins = 300\n",
    "fig,ax = plt.subplots()\n",
    "n, bins, patches = ax.hist(dist, num_bins, facecolor='blue',alpha = 0.7,range=(dist.min(),dist.max()),density=1)\n",
    "\n",
    "y1 = stats.norm.pdf(x,mu1,np.sqrt(var1))\n",
    "y2 = stats.norm.pdf(x,mu2,np.sqrt(var2))\n",
    "ax.plot(x, y1*lambda1+y2*(1-lambda1), '--')\n",
    "\n",
    "ax.set_xlabel('C return')\n",
    "ax.set_ylabel('Probability density')\n",
    "plt.show()"
   ]
  }
 ],
 "metadata": {
  "kernelspec": {
   "display_name": "Python 3",
   "language": "python",
   "name": "python3"
  },
  "language_info": {
   "codemirror_mode": {
    "name": "ipython",
    "version": 3
   },
   "file_extension": ".py",
   "mimetype": "text/x-python",
   "name": "python",
   "nbconvert_exporter": "python",
   "pygments_lexer": "ipython3",
   "version": "3.7.3"
  }
 },
 "nbformat": 4,
 "nbformat_minor": 2
}
